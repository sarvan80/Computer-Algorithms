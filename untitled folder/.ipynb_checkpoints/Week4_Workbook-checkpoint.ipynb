{
 "cells": [
  {
   "cell_type": "markdown",
   "metadata": {},
   "source": [
    "# Topics\n",
    "\n",
    "* Discuss homework soution\n",
    "\n",
    "* More linear data structures\n",
    "\n",
    "* Recursion: \n",
    "    * binary search \n",
    "    * Number of k-combinations of n objects    \n",
    "    * N-Queens problem\n",
    "    * Towers of Hanoi\n"
   ]
  },
  {
   "cell_type": "markdown",
   "metadata": {},
   "source": [
    "## Implementation/Analysis of a Queue using 2 stacks"
   ]
  },
  {
   "cell_type": "code",
   "execution_count": 3,
   "metadata": {
    "collapsed": false
   },
   "outputs": [],
   "source": [
    "import stack as stack\n",
    "\n",
    "class UnderflowError(Exception):\n",
    "    pass\n",
    "\n",
    "class Queue:\n",
    "    \"\"\"Invariant: the queue is visualized as \n",
    "    self.deq (from top to bottom) followed by \n",
    "    self.enq (from bottom to top) \n",
    "    as being the elements from front to the rear\"\"\"\n",
    "    def __init__(self):\n",
    "        pass\n",
    "    \n",
    "    def __len__(self):\n",
    "        pass\n",
    "    \n",
    "    def isEmpty(self):\n",
    "        pass\n",
    "    \n",
    "    def enqueue(self, val):\n",
    "        pass\n",
    "        \n",
    "    def dequeue(self):\n",
    "        pass\n"
   ]
  },
  {
   "cell_type": "markdown",
   "metadata": {},
   "source": [
    "## Implementation/Analysis of a Queue using a doubly linked, circular list"
   ]
  },
  {
   "cell_type": "code",
   "execution_count": 12,
   "metadata": {
    "collapsed": true
   },
   "outputs": [],
   "source": [
    "class Node:#Single link\n",
    "    def __init__(self, data):\n",
    "        self.data = data\n",
    "        self.forward = None\n",
    "        #self.backward = None\n",
    "    def __str__(self):\n",
    "        return str(self.data)\n"
   ]
  },
  {
   "cell_type": "code",
   "execution_count": 13,
   "metadata": {
    "collapsed": false
   },
   "outputs": [],
   "source": [
    "class Queue1:\n",
    "    \"\"\"A Queue implemented using a doubly linked circular list\"\"\"\n",
    "    def __init__(self):\n",
    "        self.head=None\n",
    "        self.tail=None\n",
    "    \n",
    "    def __len__(self):\n",
    "        pass\n",
    "    \n",
    "    def isEmpty(self):\n",
    "        return self.head==none\n",
    "    \n",
    "    def enqueue(self, val):\n",
    "        node=Node(val)\n",
    "        if self.head==None:\n",
    "            self.head=node\n",
    "            self.tail=node\n",
    "            node.forward=node\n",
    "        else:    \n",
    "            node.forward=self.tail\n",
    "            self.tail=node\n",
    "            self.head.forward=self.tail#Broken 2 links & rearranged them\n",
    "        \n",
    "        \n",
    "    def dequeue(self):\n",
    "        pass\n",
    "\n",
    "q=Queue1()\n",
    "q.enqueue(10)"
   ]
  },
  {
   "cell_type": "markdown",
   "metadata": {},
   "source": [
    "## Recursive Functions\n",
    "\n",
    "Three rules govern recursive solutions (functions) to solve problems:\n",
    "\n",
    "* Definition of an appropriate **base case** (or cases)\n",
    "\n",
    "* Definition of recursive case(s)\n",
    "\n",
    "* Sub-division of the problem in a recursive case into **smaller** subproblems eventually leading to a base case.\n",
    "\n"
   ]
  },
  {
   "cell_type": "markdown",
   "metadata": {},
   "source": [
    "### Binary Search in an sorted sequence"
   ]
  },
  {
   "cell_type": "code",
   "execution_count": null,
   "metadata": {
    "collapsed": true
   },
   "outputs": [],
   "source": [
    "def recBinarySearch (val, sequence, start, end):\n",
    "    \"\"\"Check if val is in the sequence between given indices\n",
    "    \n",
    "    start, end: non-negative indices for slice of the sequence being searched\"\"\"\n",
    "    pass\n"
   ]
  },
  {
   "cell_type": "code",
   "execution_count": null,
   "metadata": {
    "collapsed": true
   },
   "outputs": [],
   "source": [
    "def choose(n, k):\n",
    "    \"\"\"Returns n choose k\n",
    "    \n",
    "    n, k: non-negative integers such that n >= k >= 0\n",
    "    \"\"\"\n",
    "    pass"
   ]
  },
  {
   "cell_type": "markdown",
   "metadata": {},
   "source": [
    "### Number of k combinations of n objects\n",
    "\n",
    "We want to calculate $$n \\choose k$$ recursively."
   ]
  },
  {
   "cell_type": "markdown",
   "metadata": {},
   "source": [
    "### N-Queens Problem"
   ]
  },
  {
   "cell_type": "code",
   "execution_count": null,
   "metadata": {
    "collapsed": true
   },
   "outputs": [],
   "source": [
    "class Chessboard:\n",
    "    def __init__(self, n):\n",
    "        \"\"\"Create representation of nxn chessboard\"\"\"\n",
    "        pass\n",
    "    \n",
    "    def size(self):\n",
    "        \"\"\"Returns the size of the board\"\"\"\n",
    "        return 0\n",
    "    \n",
    "    def numQueens(self):\n",
    "        \"\"\"Returns the number of queens currently positioned on the board\"\"\"\n",
    "        return 0\n",
    "    \n",
    "    def unguarded(self, row, col):\n",
    "        \"\"\"Returns True/False to indicate if (row, col) is unguarded\"\"\"\n",
    "        return True\n",
    "    \n",
    "    def placeQueen(self, row, col):\n",
    "        \"\"\"Change board configuration by placing queen\"\"\"\n",
    "        pass\n",
    "    \n",
    "    def removeQueen(self, row, col):\n",
    "        \"\"\"Change board configuration by placing queen\"\"\"\n",
    "        pass\n",
    "    \n",
    "    def __str__(self):\n",
    "        \"\"\"Return a nice representation of the current board\"\"\"\n",
    "        return ''"
   ]
  },
  {
   "cell_type": "markdown",
   "metadata": {},
   "source": [
    "#### Recursive Algorithm\n",
    "\n",
    "Given a certain legal configuration that works for queens in all previous columns < current column, the algorithm tried to place a queen legally in the current column. It then makes a recursive call with column index increased by 1. If no solution is possible, then the last move is retracted and another solution within the current column is tried out. "
   ]
  },
  {
   "cell_type": "code",
   "execution_count": null,
   "metadata": {
    "collapsed": true
   },
   "outputs": [],
   "source": [
    "def solveNQueens(board, col):\n",
    "    \"\"\"Returns True if successful placement found from column onwards\n",
    "    \n",
    "    col: column index on the board\"\"\"\n",
    "    return True\n",
    "    "
   ]
  },
  {
   "cell_type": "markdown",
   "metadata": {},
   "source": [
    "### Towers of Hanoi\n",
    "\n",
    "We wish to move n discs from tower A to tower C. The restriction in each move is that only  the topmost disc in any stack can be moved and must only be moved onto a bigger one or onto an empty tower. "
   ]
  },
  {
   "cell_type": "code",
   "execution_count": null,
   "metadata": {
    "collapsed": true
   },
   "outputs": [],
   "source": [
    "def towersOfHanoi(n, src, dest, spare):\n",
    "    \"\"\"Print sequence of moves to move n discs from src to dest tower\n",
    "    \n",
    "    Spare tower can be used an an intermediary\n",
    "    \"\"\"\n",
    "    pass"
   ]
  }
 ],
 "metadata": {
  "kernelspec": {
   "display_name": "Python 3",
   "language": "python",
   "name": "python3"
  },
  "language_info": {
   "codemirror_mode": {
    "name": "ipython",
    "version": 3
   },
   "file_extension": ".py",
   "mimetype": "text/x-python",
   "name": "python",
   "nbconvert_exporter": "python",
   "pygments_lexer": "ipython3",
   "version": "3.5.1"
  }
 },
 "nbformat": 4,
 "nbformat_minor": 0
}
