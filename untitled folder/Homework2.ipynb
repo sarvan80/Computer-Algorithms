{
 "cells": [
  {
   "cell_type": "markdown",
   "metadata": {},
   "source": [
    "# Homework 2\n",
    "\n",
    "A few changes from the format in Homework 1 as we evolve to organizing code: \n",
    "\n",
    "- edit and create your code in the module described below. You can always view a module by using the `%load <module.py>` magic from a notebook cell.\n",
    "\n",
    "- The only part of the notebook that you will modify is for the second question.\n",
    "\n",
    "- The module already come with *stub* code to be completed. You should be able to run the module in a standalone manner from the command line and not get any syntax errors. Make sure that your final submission, whether complete or incomplete, also runs cleanly without syntax errors. \n",
    "\n",
    "* Please make sure that you test your code on clamshell or crabshell\n",
    "\n",
    "Please remember the collaboration policy outlined in the syllabus and discussed in class. Avoid using solutions provided by others - make sure that what you submit is your own work. Indicate below the names of the people (if any) that you have collaborated with, or websites that you used for the solutions while working on the assignment. \n",
    "\n",
    "\n",
    "**Names of Collaborators:** \n",
    "\n",
    "**Websites Used: **\n"
   ]
  },
  {
   "cell_type": "markdown",
   "metadata": {},
   "source": [
    "## Question 1: Polynomial ADT\n",
    "\n",
    "We wish to implement the following API for polynomials in one variable with integer-valued coefficients, e.g. polynomials like \n",
    "$2x^2 + 3x -2$ or $3x^3 -1$. Each term has a corresponding non-negative integer as its *degree*. In particular, we want to make sure that only the terms with non-zero coefficients are ever stored in the polynomial's internal representation.\n",
    "\n",
    "**The detailed documentation and the doctests appear in the stub code\n",
    "module, `poly.py` that you must complete.**\n",
    "\n",
    "You are free to choose the internal representation in any manner you see fit, but be sure to explain your choice, e.g. whether it is a list of (coefficient, degree) tuples, two separate lists of coefficients and degrees, a dictionary, etc.\n",
    "\n",
    "It is best to implement the API one at a time because you want to ensure that the definitions work correctly before moving on. Follow the order given in the module to implement your methods.\n",
    "\n",
    "The doctest code is meant for testing - **do not delete it**. Be sure to follow the documentation in the API closely. Note that the  `__call__` method allows us to treat \n",
    "the Polynomial like a function, e.g. if the polynomial is \n",
    "$$p=2x^2 -x + 5$$ then $p(2)$ should return 11, the result of evaluating the polynomial at $x=2$. \n",
    "\n",
    " "
   ]
  },
  {
   "cell_type": "raw",
   "metadata": {
    "collapsed": true
   },
   "source": [
    "class Polynomial:\n",
    "    \"\"\"Polynomials in one variable. Only non-zero terms \n",
    "    are stored!!\n",
    "    \"\"\"\n",
    "    def __init__(self, *args):\n",
    "        pass\n",
    "    \n",
    "    def __str__(self):\n",
    "        return ''\n",
    "    \n",
    "    def getCoefficient(self, degree):\n",
    "        return 0\n",
    "    \n",
    "    def __call__(self, x):\n",
    "        return 0\n",
    "        \n",
    "    def __len__(self):\n",
    "        return 0\n",
    "    \n",
    "    def __add__(self, other):\n",
    "        return Polynomial()\n",
    "\n",
    "    def __sub__(self, other):\n",
    "        return Polynomial\n",
    "    \n",
    "    def __mul__(self, other):\n",
    "        return Polynomial()\n",
    "    \n",
    "    def derivative(self):\n",
    "        return Polynomial()\n",
    "\n",
    "    ###################################\n",
    "    ##  Do not modify!!\n",
    "    ###################################\n",
    "\n",
    "    def __rmul__(self, other):\n",
    "        self.__mul__(self, other)\n"
   ]
  },
  {
   "cell_type": "markdown",
   "metadata": {},
   "source": [
    "Do not remove or modify the cell below - rather, use it to make sure that \n",
    "changes you make to `poly.py` (the implementation file) start removing the errors from the doctests. Any remaining doctest errors will then show up when I test your submission. "
   ]
  },
  {
   "cell_type": "code",
   "execution_count": null,
   "metadata": {
    "collapsed": false
   },
   "outputs": [],
   "source": [
    "%run poly.py"
   ]
  },
  {
   "cell_type": "markdown",
   "metadata": {},
   "source": [
    "## Question 2:  Implementing Stack with 2 Queues\n",
    "\n",
    "In class, we showed how a queue could be implemented using two off-the-shelf stacks. \n",
    "\n",
    "Describe how you could implement a stack with two off-the-shelf queues. You do not have to implement this *in code*: just describe clearly in English (or in psuedocode) how your internal representation of 2 queues can be used together to emulate a stack's push, pop and isEmpty methods. \n",
    "\n",
    "For your design, indicate clearly the complexity, as a function of $n$, of a sequence of $2n$ operations consisting of amy legal combination of $n$ pushes and $n$ pops that does not cause the stack to get stuck.You can assume that all the queue operations (enqueue, dequeue and isEmpty) can be done in constant time. "
   ]
  },
  {
   "cell_type": "markdown",
   "metadata": {},
   "source": [
    "### Answer for Question 2 here!!"
   ]
  },
  {
   "cell_type": "code",
   "execution_count": null,
   "metadata": {
    "collapsed": true
   },
   "outputs": [],
   "source": []
  }
 ],
 "metadata": {
  "kernelspec": {
   "display_name": "Python 3",
   "language": "python",
   "name": "python3"
  },
  "language_info": {
   "codemirror_mode": {
    "name": "ipython",
    "version": 3
   },
   "file_extension": ".py",
   "mimetype": "text/x-python",
   "name": "python",
   "nbconvert_exporter": "python",
   "pygments_lexer": "ipython3",
   "version": "3.4.3"
  }
 },
 "nbformat": 4,
 "nbformat_minor": 0
}
